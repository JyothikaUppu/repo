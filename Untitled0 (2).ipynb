{
  "nbformat": 4,
  "nbformat_minor": 0,
  "metadata": {
    "colab": {
      "provenance": []
    },
    "kernelspec": {
      "name": "python3",
      "display_name": "Python 3"
    },
    "language_info": {
      "name": "python"
    }
  },
  "cells": [
    {
      "cell_type": "code",
      "execution_count": 3,
      "metadata": {
        "colab": {
          "base_uri": "https://localhost:8080/"
        },
        "id": "g4fBMy-KzDbR",
        "outputId": "3e268815-bb1e-46d3-e93e-b6ff824e48cc"
      },
      "outputs": [
        {
          "output_type": "stream",
          "name": "stdout",
          "text": [
            "Sorted ages: [19, 19, 20, 22, 24, 24, 24, 25, 25, 26, 19, 26]\n",
            "Minimum age: 19\n",
            "Maximum age: 26\n",
            "Median age: 24.0\n",
            "Average age: 22.75\n",
            "Age range: 7\n"
          ]
        }
      ],
      "source": [
        "#1\n",
        "# List of ages\n",
        "ages = [19, 22, 19, 24, 20, 25, 26, 24, 25, 24]\n",
        "\n",
        "# Sort the list\n",
        "ages.sort()\n",
        "\n",
        "# Find the min and max age\n",
        "min_age = ages[0]\n",
        "max_age = ages[-1]\n",
        "\n",
        "# Add min and max age again to the list\n",
        "ages.extend([min_age, max_age])\n",
        "\n",
        "# Find the median age\n",
        "n = len(ages)\n",
        "if n % 2 == 0:\n",
        "    median_age = (ages[n // 2 - 1] + ages[n // 2]) / 2\n",
        "else:\n",
        "    median_age = ages[n // 2]\n",
        "\n",
        "# Find the average age\n",
        "average_age = sum(ages) / len(ages)\n",
        "\n",
        "# Find the range of ages\n",
        "age_range = max_age - min_age\n",
        "\n",
        "print(\"Sorted ages:\", ages)\n",
        "print(\"Minimum age:\", min_age)\n",
        "print(\"Maximum age:\", max_age)\n",
        "print(\"Median age:\", median_age)\n",
        "print(\"Average age:\", average_age)\n",
        "print(\"Age range:\", age_range)"
      ]
    },
    {
      "cell_type": "code",
      "source": [
        "#2\n",
        "# Create an empty dictionary called dog\n",
        "dog = {}\n",
        "\n",
        "# Add name, color, breed, legs, age to the dog dictionary\n",
        "dog['name'] = 'Fido'\n",
        "dog['color'] = 'Brown'\n",
        "dog['breed'] = 'Labrador'\n",
        "dog['legs'] = 4\n",
        "dog['age'] = 5\n",
        "\n",
        "# Create a student dictionary\n",
        "student = {\n",
        "    'first_name': 'John',\n",
        "    'last_name': 'Doe',\n",
        "    'gender': 'Male',\n",
        "    'age': 25,\n",
        "    'marital_status': 'Single',\n",
        "    'skills': ['Python', 'Data Analysis'],\n",
        "    'country': 'USA',\n",
        "    'city': 'New York',\n",
        "    'address': '123 Main St'\n",
        "}\n",
        "\n",
        "# Get the length of the student dictionary\n",
        "student_length = len(student)\n",
        "\n",
        "# Get the value of skills and check the data type\n",
        "skills_value = student['skills']\n",
        "skills_type = type(skills_value)\n",
        "\n",
        "# Modify the skills values by adding one or two skills\n",
        "student['skills'].extend(['JavaScript', 'Machine Learning'])\n",
        "\n",
        "# Get the dictionary keys as a list\n",
        "student_keys = list(student.keys())\n",
        "\n",
        "# Get the dictionary values as a list\n",
        "student_values = list(student.values())\n",
        "\n",
        "# Output results\n",
        "print(\"Dog dictionary:\", dog)\n",
        "print(\"Student dictionary length:\", student_length)\n",
        "print(\"Type of skills value:\", skills_type)\n",
        "print(\"Updated student dictionary with skills:\", student)\n",
        "print(\"Dictionary keys:\", student_keys)\n",
        "print(\"Dictionary values:\", student_values)"
      ],
      "metadata": {
        "colab": {
          "base_uri": "https://localhost:8080/"
        },
        "id": "w76voUbN0YrM",
        "outputId": "de873f66-7277-430d-afbc-46e552490bf8"
      },
      "execution_count": 4,
      "outputs": [
        {
          "output_type": "stream",
          "name": "stdout",
          "text": [
            "Dog dictionary: {'name': 'Fido', 'color': 'Brown', 'breed': 'Labrador', 'legs': 4, 'age': 5}\n",
            "Student dictionary length: 9\n",
            "Type of skills value: <class 'list'>\n",
            "Updated student dictionary with skills: {'first_name': 'John', 'last_name': 'Doe', 'gender': 'Male', 'age': 25, 'marital_status': 'Single', 'skills': ['Python', 'Data Analysis', 'JavaScript', 'Machine Learning'], 'country': 'USA', 'city': 'New York', 'address': '123 Main St'}\n",
            "Dictionary keys: ['first_name', 'last_name', 'gender', 'age', 'marital_status', 'skills', 'country', 'city', 'address']\n",
            "Dictionary values: ['John', 'Doe', 'Male', 25, 'Single', ['Python', 'Data Analysis', 'JavaScript', 'Machine Learning'], 'USA', 'New York', '123 Main St']\n"
          ]
        }
      ]
    },
    {
      "cell_type": "code",
      "source": [
        "from google.colab import drive\n",
        "drive.mount('/content/drive')"
      ],
      "metadata": {
        "id": "7-mMyhpMVMXT"
      },
      "execution_count": null,
      "outputs": []
    },
    {
      "cell_type": "code",
      "source": [
        "#3\n",
        "sisters = (\"Emily\", \"Sophia\")\n",
        "brothers = (\"James\", \"Michael\", \"Daniel\")\n",
        "\n",
        "siblings = brothers + sisters\n",
        "\n",
        "num_siblings = len(siblings)\n",
        "\n",
        "family_members = (\"Father's Name\", \"Mother's Name\") + siblings\n",
        "\n",
        "print(\"Siblings:\", siblings)\n",
        "print(\"Number of siblings:\", num_siblings)\n",
        "print(\"Family members:\", family_members)"
      ],
      "metadata": {
        "colab": {
          "base_uri": "https://localhost:8080/"
        },
        "id": "G-B0cK7o07z0",
        "outputId": "6160d06f-9f8a-4dce-ec9e-e4d40b82e2e9"
      },
      "execution_count": 7,
      "outputs": [
        {
          "output_type": "stream",
          "name": "stdout",
          "text": [
            "Siblings: ('James', 'Michael', 'Daniel', 'Emily', 'Sophia')\n",
            "Number of siblings: 5\n",
            "Family members: (\"Father's Name\", \"Mother's Name\", 'James', 'Michael', 'Daniel', 'Emily', 'Sophia')\n"
          ]
        }
      ]
    },
    {
      "cell_type": "code",
      "source": [
        "#4\n",
        "it_companies = {'Facebook', 'Google', 'Microsoft', 'Apple', 'IBM', 'Oracle', 'Amazon'}\n",
        "A = {19, 22, 24, 20, 25, 26}\n",
        "B = {19, 22, 20, 25, 26, 24, 28, 27}\n",
        "age = [22, 19, 24, 25, 26, 24, 25, 24]\n",
        "\n",
        "length_it_companies = len(it_companies)\n",
        "\n",
        "it_companies.add('Twitter')\n",
        "\n",
        "it_companies.update(['LinkedIn', 'Uber', 'Airbnb'])\n",
        "\n",
        "it_companies.discard('IBM')\n",
        "\n",
        "joined_set = A.union(B)\n",
        "\n",
        "intersection_set = A.intersection(B)\n",
        "\n",
        "is_A_subset_of_B = A.issubset(B)\n",
        "\n",
        "are_disjoint = A.isdisjoint(B)\n",
        "\n",
        "joined_A_with_B = A.union(B)\n",
        "joined_B_with_A = B.union(A)\n",
        "\n",
        "symmetric_difference = A.symmetric_difference(B)\n",
        "\n",
        "age_set = set(age)\n",
        "length_age_list = len(age)\n",
        "length_age_set = len(age_set)\n",
        "\n",
        "print(\"Length of it_companies:\", length_it_companies)\n",
        "print(\"Updated it_companies:\", it_companies)\n",
        "print(\"Joined set of A and B:\", joined_set)\n",
        "print(\"Intersection of A and B:\", intersection_set)\n",
        "print(\"Is A subset of B:\", is_A_subset_of_B)\n",
        "print(\"Are A and B disjoint sets:\", are_disjoint)\n",
        "print(\"Joined A with B:\", joined_A_with_B)\n",
        "print(\"Joined B with A:\", joined_B_with_A)\n",
        "print(\"Symmetric difference between A and B:\", symmetric_difference)\n",
        "print(\"Length of age list:\", length_age_list)\n",
        "print(\"Length of age set:\", length_age_set)"
      ],
      "metadata": {
        "colab": {
          "base_uri": "https://localhost:8080/"
        },
        "id": "0xEnhNGX1Hkx",
        "outputId": "78425d0a-3024-4287-df0f-bd9af0a7b615"
      },
      "execution_count": 12,
      "outputs": [
        {
          "output_type": "stream",
          "name": "stdout",
          "text": [
            "Length of it_companies: 7\n",
            "Updated it_companies: {'Facebook', 'Twitter', 'Airbnb', 'Google', 'Oracle', 'LinkedIn', 'Uber', 'Apple', 'Microsoft', 'Amazon'}\n",
            "Joined set of A and B: {19, 20, 22, 24, 25, 26, 27, 28}\n",
            "Intersection of A and B: {19, 20, 22, 24, 25, 26}\n",
            "Is A subset of B: True\n",
            "Are A and B disjoint sets: False\n",
            "Joined A with B: {19, 20, 22, 24, 25, 26, 27, 28}\n",
            "Joined B with A: {19, 20, 22, 24, 25, 26, 27, 28}\n",
            "Symmetric difference between A and B: {27, 28}\n",
            "Length of age list: 8\n",
            "Length of age set: 5\n"
          ]
        }
      ]
    },
    {
      "cell_type": "code",
      "source": [
        "#5\n",
        "import math\n",
        "\n",
        "radius = 30\n",
        "\n",
        "area_of_circle = math.pi * radius ** 2\n",
        "\n",
        "circum_of_circle = 2 * math.pi * radius\n",
        "\n",
        "print(\"Area of the circle:\", area_of_circle)\n",
        "print(\"Circumference of the circle:\", circum_of_circle)\n",
        "\n",
        "user_radius = float(input(\"Enter the radius of the circle (in meters): \"))\n",
        "\n",
        "user_area_of_circle = math.pi * user_radius ** 2\n",
        "\n",
        "print(\"Area of the circle with radius\", user_radius, \"is:\", user_area_of_circle)"
      ],
      "metadata": {
        "colab": {
          "base_uri": "https://localhost:8080/"
        },
        "id": "iAY74prd2H8s",
        "outputId": "d0b28891-7347-4f00-dbd7-77e040feb539"
      },
      "execution_count": 13,
      "outputs": [
        {
          "output_type": "stream",
          "name": "stdout",
          "text": [
            "Area of the circle: 2827.4333882308138\n",
            "Circumference of the circle: 188.49555921538757\n",
            "Enter the radius of the circle (in meters): 30\n",
            "Area of the circle with radius 30.0 is: 2827.4333882308138\n"
          ]
        }
      ]
    },
    {
      "cell_type": "code",
      "source": [
        "#6\n",
        "sentence = \"I am a teacher and I love to inspire and teach people\"\n",
        "\n",
        "words = sentence.split()\n",
        "\n",
        "unique_words = set(words)\n",
        "\n",
        "num_unique_words = len(unique_words)\n",
        "\n",
        "print(\"Number of unique words:\", num_unique_words)"
      ],
      "metadata": {
        "colab": {
          "base_uri": "https://localhost:8080/"
        },
        "id": "Yd5XoTo-2YBy",
        "outputId": "f15c2650-a351-4092-cc8f-50f63a0dc8da"
      },
      "execution_count": 14,
      "outputs": [
        {
          "output_type": "stream",
          "name": "stdout",
          "text": [
            "Number of unique words: 10\n"
          ]
        }
      ]
    },
    {
      "cell_type": "code",
      "source": [
        "#7\n",
        "print(\"Name\\tAge\\tCountry\\tCity\")\n",
        "print(\"Asabeneh\\t250\\tFinland\\tHelsinki\")"
      ],
      "metadata": {
        "colab": {
          "base_uri": "https://localhost:8080/"
        },
        "id": "aZk3WjNV20CZ",
        "outputId": "c9356655-ff67-4a2d-9329-a08065591555"
      },
      "execution_count": 16,
      "outputs": [
        {
          "output_type": "stream",
          "name": "stdout",
          "text": [
            "Name\tAge\tCountry\tCity\n",
            "Asabeneh\t250\tFinland\tHelsinki\n"
          ]
        }
      ]
    },
    {
      "cell_type": "code",
      "source": [
        "#8\n",
        "radius = 10\n",
        "area = 3.14 * radius ** 2\n",
        "\n",
        "result = \"The area of a circle with radius {} is {} meters square.\".format(radius, int(area))\n",
        "\n",
        "print(result)"
      ],
      "metadata": {
        "colab": {
          "base_uri": "https://localhost:8080/"
        },
        "id": "MXlXRmQS3RXH",
        "outputId": "d427ea4d-ffeb-4cce-b9ee-4cd09e82edce"
      },
      "execution_count": 17,
      "outputs": [
        {
          "output_type": "stream",
          "name": "stdout",
          "text": [
            "The area of a circle with radius 10 is 314 meters square.\n"
          ]
        }
      ]
    },
    {
      "cell_type": "code",
      "source": [
        "#9\n",
        "N = int(input(\"Enter the number of students: \"))\n",
        "\n",
        "weights_lbs = []\n",
        "\n",
        "for i in range(N):\n",
        "    weight_lbs = float(input(\"Enter the weight of student {}: \".format(i+1)))\n",
        "    weights_lbs.append(weight_lbs)\n",
        "\n",
        "weights_kgs = []\n",
        "for weight_lbs in weights_lbs:\n",
        "    weight_kgs = weight_lbs * 0.453592  # 1 lb = 0.453592 kg\n",
        "    weights_kgs.append(round(weight_kgs, 2))  # Round to two decimal places\n",
        "\n",
        "print(\"Weights in kilograms:\", weights_kgs)"
      ],
      "metadata": {
        "colab": {
          "base_uri": "https://localhost:8080/"
        },
        "id": "xjyX1fWT3ggH",
        "outputId": "e4e91833-797f-46a0-adb7-833d2f1a7768"
      },
      "execution_count": 20,
      "outputs": [
        {
          "output_type": "stream",
          "name": "stdout",
          "text": [
            "Enter the number of students: 2\n",
            "Enter the weight of student 1: 121\n",
            "Enter the weight of student 2: 129\n",
            "Weights in kilograms: [54.88, 58.51]\n"
          ]
        }
      ]
    }
  ]
}